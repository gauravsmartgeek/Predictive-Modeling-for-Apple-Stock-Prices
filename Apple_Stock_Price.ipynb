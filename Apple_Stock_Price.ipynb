{
  "nbformat": 4,
  "nbformat_minor": 0,
  "metadata": {
    "colab": {
      "provenance": [],
      "mount_file_id": "162W4qqsb6aj0mv0345RAN-Y04Fvc6BWT",
      "authorship_tag": "ABX9TyNew+o83wBRcJnVKdJVA6JD",
      "include_colab_link": true
    },
    "kernelspec": {
      "name": "python3",
      "display_name": "Python 3"
    },
    "language_info": {
      "name": "python"
    }
  },
  "cells": [
    {
      "cell_type": "markdown",
      "metadata": {
        "id": "view-in-github",
        "colab_type": "text"
      },
      "source": [
        "<a href=\"https://colab.research.google.com/github/gauravsmartgeek/Predictive-Modeling-for-Apple-Stock-Prices/blob/main/Apple_Stock_Price.ipynb\" target=\"_parent\"><img src=\"https://colab.research.google.com/assets/colab-badge.svg\" alt=\"Open In Colab\"/></a>"
      ]
    },
    {
      "cell_type": "markdown",
      "source": [
        "**Predictive Modeling for Stock Prices:** Utilize historical stock price data of Apple to build predictive models using machine learning algorithms like linear regression, decision trees, or LSTM (Long Short-Term Memory) networks. Train the models to predict future stock prices based on various features like trading volumes, prices of commodities, and market indices."
      ],
      "metadata": {
        "id": "8KXnWkg-9FBQ"
      }
    },
    {
      "cell_type": "code",
      "source": [
        "from google.colab import drive\n",
        "drive.mount('/content/drive')"
      ],
      "metadata": {
        "colab": {
          "base_uri": "https://localhost:8080/"
        },
        "id": "R3ACcq5B6JlQ",
        "outputId": "53e0955a-14ba-40c6-df78-c0efc74b95a7"
      },
      "execution_count": 1,
      "outputs": [
        {
          "output_type": "stream",
          "name": "stdout",
          "text": [
            "Mounted at /content/drive\n"
          ]
        }
      ]
    },
    {
      "cell_type": "code",
      "source": [
        "import pandas as pd\n",
        "import numpy as np\n",
        "from sklearn.model_selection import train_test_split\n",
        "from sklearn.preprocessing import MinMaxScaler\n",
        "from sklearn.linear_model import LinearRegression\n",
        "from sklearn.tree import DecisionTreeRegressor\n",
        "from keras.models import Sequential\n",
        "from keras.layers import LSTM, Dense\n",
        "\n",
        "# Load dataset\n",
        "url = \"/content/drive/MyDrive/dataset/stock market.csv\"\n",
        "df = pd.read_csv(url)\n",
        "\n",
        "# Drop the date column\n",
        "df = df.drop(columns=['Date'])\n",
        "\n",
        "# Preprocessing\n",
        "# Remove commas from numerical values and convert them to float\n",
        "df.replace(',', '', regex=True, inplace=True)\n",
        "df = df.astype(float)\n",
        "\n",
        "# Remove any rows with missing values\n",
        "df.dropna(inplace=True)\n",
        "\n",
        "# Feature selection\n",
        "features = ['Natural_Gas_Price', 'Natural_Gas_Vol.', 'Crude_oil_Price', 'Crude_oil_Vol.',\n",
        "            'Copper_Price', 'Copper_Vol.', 'Bitcoin_Price', 'Bitcoin_Vol.', 'Platinum_Price',\n",
        "            'Platinum_Vol.', 'Ethereum_Price', 'Ethereum_Vol.', 'S&P_500_Price', 'Nasdaq_100_Price',\n",
        "            'Nasdaq_100_Vol.', 'Apple_Price', 'Apple_Vol.', 'Tesla_Price', 'Tesla_Vol.', 'Microsoft_Price',\n",
        "            'Microsoft_Vol.', 'Silver_Price', 'Silver_Vol.', 'Google_Price', 'Google_Vol.', 'Nvidia_Price',\n",
        "            'Nvidia_Vol.', 'Berkshire_Price', 'Berkshire_Vol.', 'Netflix_Price', 'Netflix_Vol.', 'Amazon_Price',\n",
        "            'Amazon_Vol.', 'Meta_Price', 'Meta_Vol.', 'Gold_Price', 'Gold_Vol.']\n",
        "\n",
        "# Target variable\n",
        "target = 'Apple_Price'  # You can replace 'Apple_Price' with any other stock price\n",
        "\n",
        "# Split data into features and target variable\n",
        "X = df[features]\n",
        "y = df[target]\n",
        "\n",
        "# Split data into training and testing sets\n",
        "X_train, X_test, y_train, y_test = train_test_split(X, y, test_size=0.2, random_state=42)\n",
        "\n",
        "# Normalize features\n",
        "scaler = MinMaxScaler()\n",
        "X_train_scaled = scaler.fit_transform(X_train)\n",
        "X_test_scaled = scaler.transform(X_test)\n",
        "\n",
        "# Linear Regression model\n",
        "lr_model = LinearRegression()\n",
        "lr_model.fit(X_train_scaled, y_train)\n",
        "lr_score = lr_model.score(X_test_scaled, y_test)\n",
        "print(\"Linear Regression R^2 Score:\", lr_score)\n",
        "\n",
        "# Decision Tree model\n",
        "dt_model = DecisionTreeRegressor()\n",
        "dt_model.fit(X_train_scaled, y_train)\n",
        "dt_score = dt_model.score(X_test_scaled, y_test)\n",
        "print(\"Decision Tree R^2 Score:\", dt_score)\n",
        "\n",
        "# LSTM model\n",
        "X_train_lstm = X_train_scaled.reshape((X_train_scaled.shape[0], 1, X_train_scaled.shape[1]))\n",
        "X_test_lstm = X_test_scaled.reshape((X_test_scaled.shape[0], 1, X_test_scaled.shape[1]))\n",
        "\n",
        "lstm_model = Sequential()\n",
        "lstm_model.add(LSTM(50, activation='relu', input_shape=(1, X_train_scaled.shape[1])))\n",
        "lstm_model.add(Dense(1))\n",
        "lstm_model.compile(optimizer='adam', loss='mse')\n",
        "\n",
        "lstm_model.fit(X_train_lstm, y_train, epochs=100, batch_size=32, verbose=0)\n",
        "lstm_score = lstm_model.evaluate(X_test_lstm, y_test, verbose=0)\n",
        "print(\"LSTM Mean Squared Error:\", lstm_score)\n"
      ],
      "metadata": {
        "colab": {
          "base_uri": "https://localhost:8080/"
        },
        "id": "lyj9dWe0fycd",
        "outputId": "a4b7fc2a-5b1c-4e68-bd35-14522a9a6f20"
      },
      "execution_count": 33,
      "outputs": [
        {
          "output_type": "stream",
          "name": "stdout",
          "text": [
            "Linear Regression R^2 Score: 1.0\n",
            "Decision Tree R^2 Score: 0.99932065688944\n",
            "LSTM Mean Squared Error: 318.3907165527344\n"
          ]
        }
      ]
    }
  ]
}